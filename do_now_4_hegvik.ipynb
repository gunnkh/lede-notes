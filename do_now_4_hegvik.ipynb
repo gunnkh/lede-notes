{
 "cells": [
  {
   "cell_type": "markdown",
   "metadata": {},
   "source": [
    "Print the 3th element of a list called dogs"
   ]
  },
  {
   "cell_type": "code",
   "execution_count": null,
   "metadata": {
    "collapsed": true
   },
   "outputs": [],
   "source": [
    "print dogs[2]"
   ]
  },
  {
   "cell_type": "markdown",
   "metadata": {},
   "source": [
    "What is the output of the following code? "
   ]
  },
  {
   "cell_type": "code",
   "execution_count": 39,
   "metadata": {
    "collapsed": false
   },
   "outputs": [
    {
     "name": "stdout",
     "output_type": "stream",
     "text": [
      "green 1\n",
      "green 2\n",
      "green 3\n",
      "green 4\n",
      "blue 1\n",
      "blue 2\n",
      "blue 3\n",
      "blue 4\n"
     ]
    }
   ],
   "source": [
    "numbers = [1,2,3,4]\n",
    "colors = ['green', 'blue']\n",
    "for color in colors:\n",
    "    for number in numbers:\n",
    "        print color, number"
   ]
  },
  {
   "cell_type": "markdown",
   "metadata": {},
   "source": [
    "In the first loop the first color, green, \"finds\" the first number,1, in numbers. Green loops through the whole list, numbers, and prints 1-4 green, iow until there are no more numbers, and then \"sends out\" the next color to do the same thing until there are no more numbers in numbers."
   ]
  },
  {
   "cell_type": "markdown",
   "metadata": {},
   "source": [
    "What command would you use to get the first 100 lines of data.csv, and save it into a new file maned sample.csv?\n",
    "head is the top of the file, -n asks for the lines, in this case 100, and > save to sample.csv"
   ]
  },
  {
   "cell_type": "markdown",
   "metadata": {},
   "source": [
    "head -n 100 dogs_of_nyc.csv > sample.csv"
   ]
  },
  {
   "cell_type": "markdown",
   "metadata": {},
   "source": [
    "What is missing from the lines below? (It isnt 100 % necessary, but we use it for convenience)"
   ]
  },
  {
   "cell_type": "markdown",
   "metadata": {},
   "source": [
    "file = open(\"lists.csv\")\n",
    "cars = csv.DictReader(file)\n",
    "\n",
    "..change it to:\n",
    "\n",
    "import csv \n",
    "file = open( 'lists.csv' )\n",
    "my_lists = list( csv.DictReader( file ) ) "
   ]
  },
  {
   "cell_type": "markdown",
   "metadata": {},
   "source": [
    "Write a for loop to add up all the years. Save it to a variable called total. The loop I wrote sums up all the years to 8035. As the loop print every loop it does, I get all the new numbers loop by loop. I have to find out how to make it print only the last number. "
   ]
  },
  {
   "cell_type": "code",
   "execution_count": null,
   "metadata": {
    "collapsed": true
   },
   "outputs": [],
   "source": [
    "make = [Chevrolet, Honda, Honda, Toyota]\n",
    "year = [2011, 2010, 2013, 2001]\n",
    "color = [black, red, black, gold]\n"
   ]
  },
  {
   "cell_type": "code",
   "execution_count": 41,
   "metadata": {
    "collapsed": false
   },
   "outputs": [
    {
     "name": "stdout",
     "output_type": "stream",
     "text": [
      "2011\n",
      "4021\n",
      "6034\n",
      "8035\n"
     ]
    }
   ],
   "source": [
    "total = 0\n",
    "year = [2011, 2010, 2013, 2001]\n",
    "for number in year:\n",
    "    total = total + number \n",
    "    print total\n"
   ]
  },
  {
   "cell_type": "markdown",
   "metadata": {},
   "source": [
    "I'd like a new list called favorites that includes all cars that are black or produced after 2010. Write a for loop to create this list. Cant get this one to work.."
   ]
  },
  {
   "cell_type": "code",
   "execution_count": 63,
   "metadata": {
    "collapsed": false
   },
   "outputs": [
    {
     "ename": "SyntaxError",
     "evalue": "invalid syntax (<ipython-input-63-95d3c6145a16>, line 7)",
     "output_type": "error",
     "traceback": [
      "\u001b[0;36m  File \u001b[0;32m\"<ipython-input-63-95d3c6145a16>\"\u001b[0;36m, line \u001b[0;32m7\u001b[0m\n\u001b[0;31m    if car(['color'] == 'black' and int(car['year']) > 2010:\u001b[0m\n\u001b[0m                                                           ^\u001b[0m\n\u001b[0;31mSyntaxError\u001b[0m\u001b[0;31m:\u001b[0m invalid syntax\n"
     ]
    }
   ],
   "source": [
    "make = ['Chevrolet', 'Honda', 'Honda', 'Toyota']\n",
    "year = [2011, 2010, 2013, 2001]\n",
    "color = ['black', 'red', 'black', 'gold']\n",
    "\n",
    "favorites = []\n",
    "for car in cars:\n",
    "    if car(['color'] == 'black' and int(car['year']) > 2010:\n",
    "        favorites.append(car)\n",
    "print favorites\n"
   ]
  },
  {
   "cell_type": "code",
   "execution_count": null,
   "metadata": {
    "collapsed": true
   },
   "outputs": [],
   "source": [
    "\n"
   ]
  },
  {
   "cell_type": "code",
   "execution_count": null,
   "metadata": {
    "collapsed": true
   },
   "outputs": [],
   "source": []
  }
 ],
 "metadata": {
  "kernelspec": {
   "display_name": "Python 2",
   "language": "python",
   "name": "python2"
  },
  "language_info": {
   "codemirror_mode": {
    "name": "ipython",
    "version": 2
   },
   "file_extension": ".py",
   "mimetype": "text/x-python",
   "name": "python",
   "nbconvert_exporter": "python",
   "pygments_lexer": "ipython2",
   "version": "2.7.9"
  }
 },
 "nbformat": 4,
 "nbformat_minor": 0
}
